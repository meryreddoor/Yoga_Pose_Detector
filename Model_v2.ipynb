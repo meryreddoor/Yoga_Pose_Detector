{
  "nbformat": 4,
  "nbformat_minor": 0,
  "metadata": {
    "colab": {
      "name": "Model_v2.ipynb",
      "provenance": [],
      "mount_file_id": "1Qw9wfs9rHtL5GGInE2WlzZFirsARs6CB",
      "authorship_tag": "ABX9TyP5QUOS7d541EPKbvgFhTzy",
      "include_colab_link": true
    },
    "kernelspec": {
      "name": "python3",
      "display_name": "Python 3"
    }
  },
  "cells": [
    {
      "cell_type": "markdown",
      "metadata": {
        "id": "view-in-github",
        "colab_type": "text"
      },
      "source": [
        "<a href=\"https://colab.research.google.com/github/meryreddoor/yogagame_/blob/master/Model_v2.ipynb\" target=\"_parent\"><img src=\"https://colab.research.google.com/assets/colab-badge.svg\" alt=\"Open In Colab\"/></a>"
      ]
    },
    {
      "cell_type": "code",
      "metadata": {
        "id": "EZ3V4Ou-oIrs",
        "colab_type": "code",
        "colab": {}
      },
      "source": [
        "import keras as K\n",
        "import numpy as np\n",
        "import pandas as pd\n",
        "from sklearn.model_selection import train_test_split\n",
        "from sklearn.ensemble import RandomForestClassifier\n",
        "from PIL import Image\n",
        "from keras import backend as K"
      ],
      "execution_count": 0,
      "outputs": []
    },
    {
      "cell_type": "code",
      "metadata": {
        "id": "QJs6tZRwoAay",
        "colab_type": "code",
        "colab": {}
      },
      "source": [
        "data = pd.read_pickle(\"/content/drive/My Drive/w_arraydef.pkl\")"
      ],
      "execution_count": 0,
      "outputs": []
    },
    {
      "cell_type": "code",
      "metadata": {
        "id": "BM0lRvINqW8M",
        "colab_type": "code",
        "colab": {
          "base_uri": "https://localhost:8080/",
          "height": 221
        },
        "outputId": "35318ef1-1917-4691-e30e-67a9cb91095a"
      },
      "source": [
        "data['array']"
      ],
      "execution_count": 13,
      "outputs": [
        {
          "output_type": "execute_result",
          "data": {
            "text/plain": [
              "0      [[127, 127, 127, 129, 129, 129, 129, 129, 129,...\n",
              "1      [[253, 252, 254, 250, 248, 230, 135, 144, 121,...\n",
              "2      [[170, 176, 177, 177, 177, 179, 181, 182, 182,...\n",
              "3      [[108, 106, 102, 101, 107, 111, 117, 101, 11, ...\n",
              "4      [[184, 175, 175, 173, 164, 173, 186, 188, 186,...\n",
              "                             ...                        \n",
              "891    [[214, 214, 214, 214, 214, 214, 214, 214, 214,...\n",
              "892    [[185, 185, 186, 187, 188, 189, 192, 192, 193,...\n",
              "893    [[255, 255, 255, 255, 255, 255, 255, 255, 255,...\n",
              "894    [[112, 113, 119, 124, 122, 116, 113, 119, 124,...\n",
              "895    [[218, 218, 224, 232, 240, 243, 237, 231, 226,...\n",
              "Name: array, Length: 896, dtype: object"
            ]
          },
          "metadata": {
            "tags": []
          },
          "execution_count": 13
        }
      ]
    },
    {
      "cell_type": "code",
      "metadata": {
        "id": "rjbXpzUjqswM",
        "colab_type": "code",
        "colab": {}
      },
      "source": [
        "X = np.stack(data['array'])\n",
        "X = X / 255.0\n",
        "y = data.pose"
      ],
      "execution_count": 0,
      "outputs": []
    },
    {
      "cell_type": "code",
      "metadata": {
        "id": "HSDrD7kNq_Ji",
        "colab_type": "code",
        "colab": {
          "base_uri": "https://localhost:8080/",
          "height": 34
        },
        "outputId": "12a28744-58b2-4d8e-a81f-7fdd165ed149"
      },
      "source": [
        "X.shape"
      ],
      "execution_count": 18,
      "outputs": [
        {
          "output_type": "execute_result",
          "data": {
            "text/plain": [
              "(896, 224, 224)"
            ]
          },
          "metadata": {
            "tags": []
          },
          "execution_count": 18
        }
      ]
    },
    {
      "cell_type": "code",
      "metadata": {
        "id": "6h3gSM5JrBLi",
        "colab_type": "code",
        "colab": {}
      },
      "source": [
        "X_train, X_test, y_train, y_test = train_test_split(X, y, test_size=0.2, random_state=42)"
      ],
      "execution_count": 0,
      "outputs": []
    },
    {
      "cell_type": "code",
      "metadata": {
        "id": "ZOJonKFBr1lz",
        "colab_type": "code",
        "colab": {}
      },
      "source": [
        "img_rows, img_cols = 224, 224"
      ],
      "execution_count": 0,
      "outputs": []
    },
    {
      "cell_type": "code",
      "metadata": {
        "id": "O0wobiilrIFq",
        "colab_type": "code",
        "colab": {}
      },
      "source": [
        "# para poner el canala que falta\n",
        "if K.image_data_format() == 'channels_first':\n",
        "    X_train = X_train.reshape(X_train.shape[0], 1, img_rows, img_cols)\n",
        "    X_test = X_test.reshape(X_test.shape[0], 1, img_rows, img_cols)\n",
        "    input_shape = (1, img_rows, img_cols)\n",
        "else:\n",
        "    X_train = X_train.reshape(X_train.shape[0], img_rows, img_cols, 1)\n",
        "    X_test = X_test.reshape(X_test.shape[0], img_rows, img_cols, 1)\n",
        "    input_shape = (img_rows, img_cols, 1)"
      ],
      "execution_count": 0,
      "outputs": []
    },
    {
      "cell_type": "code",
      "metadata": {
        "id": "mz6siFA4sqUu",
        "colab_type": "code",
        "colab": {}
      },
      "source": [
        ""
      ],
      "execution_count": 0,
      "outputs": []
    }
  ]
}