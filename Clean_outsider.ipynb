{
  "nbformat": 4,
  "nbformat_minor": 0,
  "metadata": {
    "colab": {
      "name": "Clean outsider",
      "provenance": [],
      "collapsed_sections": [],
      "authorship_tag": "ABX9TyPUicyx9F0Jhlv0nZ033/5d",
      "include_colab_link": true
    },
    "kernelspec": {
      "name": "python3",
      "display_name": "Python 3"
    }
  },
  "cells": [
    {
      "cell_type": "markdown",
      "metadata": {
        "id": "view-in-github",
        "colab_type": "text"
      },
      "source": [
        "<a href=\"https://colab.research.google.com/github/meryreddoor/yogagame_/blob/primeraRama/Clean_outsider.ipynb\" target=\"_parent\"><img src=\"https://colab.research.google.com/assets/colab-badge.svg\" alt=\"Open In Colab\"/></a>"
      ]
    },
    {
      "cell_type": "code",
      "metadata": {
        "id": "3WkSI9B4K49D",
        "colab_type": "code",
        "colab": {}
      },
      "source": [
        "import json\n",
        "from keras.models import load_model\n",
        "from keras.models import model_from_json\n",
        "import cv2 \n",
        "import numpy as np"
      ],
      "execution_count": 0,
      "outputs": []
    },
    {
      "cell_type": "code",
      "metadata": {
        "id": "Caxxb9kLK6e9",
        "colab_type": "code",
        "colab": {}
      },
      "source": [
        ""
      ],
      "execution_count": 0,
      "outputs": []
    },
    {
      "cell_type": "code",
      "metadata": {
        "id": "stDzGzmvK6hs",
        "colab_type": "code",
        "colab": {}
      },
      "source": [
        ""
      ],
      "execution_count": 0,
      "outputs": []
    },
    {
      "cell_type": "code",
      "metadata": {
        "id": "B_4k8-1SKb7Q",
        "colab_type": "code",
        "colab": {}
      },
      "source": [
        "import cv2\n",
        "import numpy as np\n",
        "from google.colab.patches import cv2_imshow\n",
        "\n",
        "def cropImage(path):\n",
        "  # load image\n",
        "  img = cv2.imread(path) \n",
        "  rsz_img = cv2.resize(img, None, fx=1, fy=1) # resize since image is huge\n",
        "  gray = cv2.cvtColor(rsz_img, cv2.COLOR_BGR2GRAY) # convert to grayscale\n",
        "\n",
        "  # threshold to get just the signature\n",
        "  retval, thresh_gray = cv2.threshold(gray, thresh=100, maxval=255, type=cv2.THRESH_BINARY)\n",
        "\n",
        "  # find where the signature is and make a cropped region\n",
        "  points = np.argwhere(thresh_gray==0) # find where the black pixels are\n",
        "  points = np.fliplr(points) # store them in x,y coordinates instead of row,col indices\n",
        "  x, y, w, h = cv2.boundingRect(points) # create a rectangle around those points\n",
        "  x, y, w, h = x-10, y-10, w+20, h+20 # make the box a little bigger\n",
        "  crop = gray[y:y+h, x:x+w] # create a cropped region of the gray image\n",
        "\n",
        "  # get the thresholded crop\n",
        "  retval, thresh_crop = cv2.threshold(crop, thresh=200, maxval=255, type=cv2.THRESH_BINARY)\n",
        "\n",
        "  # display\n",
        "  cv2.imwrite(path,thresh_crop)\n",
        "  cv2.waitKey(0)\n",
        "  cv2_imshow(thresh_crop)\n",
        "  return"
      ],
      "execution_count": 0,
      "outputs": []
    },
    {
      "cell_type": "code",
      "metadata": {
        "id": "YUgR4wqbKkok",
        "colab_type": "code",
        "colab": {
          "base_uri": "https://localhost:8080/",
          "height": 264
        },
        "outputId": "3ba6f650-7346-4bb5-92ee-5ec79cfcb090"
      },
      "source": [
        "cropImage('/content/ejemplo acostado.jpg')"
      ],
      "execution_count": 22,
      "outputs": [
        {
          "output_type": "display_data",
          "data": {
            "image/png": "[encoded data removed]",
            "text/plain": [
              "<PIL.Image.Image image mode=L size=911x249 at 0x7F6A01467C18>"
            ]
          },
          "metadata": {
            "tags": []
          }
        }
      ]
    },
    {
      "cell_type": "code",
      "metadata": {
        "id": "0bMDqfaSLN2I",
        "colab_type": "code",
        "colab": {}
      },
      "source": [
        ""
      ],
      "execution_count": 0,
      "outputs": []
    }
  ]
}