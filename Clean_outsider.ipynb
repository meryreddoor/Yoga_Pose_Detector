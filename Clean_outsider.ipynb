{
 "cells": [
  {
   "cell_type": "code",
   "execution_count": 16,
   "metadata": {
    "colab": {},
    "colab_type": "code",
    "id": "stDzGzmvK6hs"
   },
   "outputs": [
    {
     "name": "stdout",
     "output_type": "stream",
     "text": [
      "Collecting google.colab\n",
      "\u001b[?25l  Downloading https://files.pythonhosted.org/packages/70/9f/d3ec1275a089ec017f9c91af22ecd1e2fe738254b944e7a1f9528fcfacd0/google-colab-1.0.0.tar.gz (72kB)\n",
      "\u001b[K     |████████████████████████████████| 81kB 803kB/s eta 0:00:01\n",
      "\u001b[?25hCollecting google-auth~=1.4.0\n",
      "\u001b[?25l  Downloading https://files.pythonhosted.org/packages/56/80/369a47c28ce7d9be6a6973338133d073864d8efbb62747e414c34a3a5f4f/google_auth-1.4.2-py2.py3-none-any.whl (64kB)\n",
      "\u001b[K     |████████████████████████████████| 71kB 1.3MB/s eta 0:00:011\n",
      "\u001b[?25hCollecting ipykernel~=4.6.0\n",
      "\u001b[?25l  Downloading https://files.pythonhosted.org/packages/18/c3/76775a650cae2e3d9c033b26153583e61282692d9a3af12a3022d8f0cefa/ipykernel-4.6.1-py3-none-any.whl (104kB)\n",
      "\u001b[K     |████████████████████████████████| 112kB 1.6MB/s eta 0:00:01\n",
      "\u001b[?25hCollecting ipython~=5.5.0\n",
      "\u001b[?25l  Downloading https://files.pythonhosted.org/packages/07/63/c987612bcf82c56eaacaf6bf01e31e53a244a0a3a0fb036ec5adc377e0fe/ipython-5.5.0-py3-none-any.whl (758kB)\n",
      "\u001b[K     |████████████████████████████████| 768kB 1.8MB/s eta 0:00:01\n",
      "\u001b[?25hCollecting notebook~=5.2.0\n",
      "\u001b[?25l  Downloading https://files.pythonhosted.org/packages/96/a2/d951ebb7855743f989287486ded73cd3f66915c3ecd9c5c5a0c7ca12377a/notebook-5.2.2-py2.py3-none-any.whl (8.0MB)\n",
      "\u001b[K     |████████████████████████████████| 8.0MB 3.1MB/s eta 0:00:01\n",
      "\u001b[?25hCollecting six~=1.12.0\n",
      "  Downloading https://files.pythonhosted.org/packages/73/fb/00a976f728d0d1fecfe898238ce23f502a721c0ac0ecfedb80e0d88c64e9/six-1.12.0-py2.py3-none-any.whl\n",
      "Collecting pandas~=0.24.0\n",
      "\u001b[?25l  Downloading https://files.pythonhosted.org/packages/fc/43/fd867e3347559845c8f993059d410c50a1e18709f1c4d4b3b47323a06a37/pandas-0.24.2-cp37-cp37m-macosx_10_6_intel.macosx_10_9_intel.macosx_10_9_x86_64.macosx_10_10_intel.macosx_10_10_x86_64.whl (15.9MB)\n",
      "\u001b[K     |████████████████████████████████| 15.9MB 2.1MB/s eta 0:00:01\n",
      "\u001b[?25hCollecting portpicker~=1.2.0\n",
      "  Downloading https://files.pythonhosted.org/packages/49/2c/a75ef568273036aa61319a554164e6031e31708106ea6ca10e17265e1703/portpicker-1.2.0.tar.gz\n",
      "Collecting requests~=2.21.0\n",
      "\u001b[?25l  Downloading https://files.pythonhosted.org/packages/7d/e3/20f3d364d6c8e5d2353c72a67778eb189176f08e873c9900e10c0287b84b/requests-2.21.0-py2.py3-none-any.whl (57kB)\n",
      "\u001b[K     |████████████████████████████████| 61kB 3.8MB/s eta 0:00:011\n",
      "\u001b[?25hCollecting tornado~=4.5.0\n",
      "\u001b[?25l  Downloading https://files.pythonhosted.org/packages/e3/7b/e29ab3d51c8df66922fea216e2bddfcb6430fb29620e5165b16a216e0d3c/tornado-4.5.3.tar.gz (484kB)\n",
      "\u001b[K     |████████████████████████████████| 491kB 6.7MB/s eta 0:00:01\n",
      "\u001b[?25hRequirement already satisfied: cachetools>=2.0.0 in /usr/local/lib/python3.7/site-packages (from google-auth~=1.4.0->google.colab) (4.0.0)\n",
      "Requirement already satisfied: rsa>=3.1.4 in /usr/local/lib/python3.7/site-packages (from google-auth~=1.4.0->google.colab) (4.0)\n",
      "Requirement already satisfied: pyasn1-modules>=0.2.1 in /usr/local/lib/python3.7/site-packages (from google-auth~=1.4.0->google.colab) (0.2.8)\n",
      "Requirement already satisfied: traitlets>=4.1.0 in /usr/local/lib/python3.7/site-packages (from ipykernel~=4.6.0->google.colab) (4.3.3)\n",
      "Requirement already satisfied: jupyter-client in /usr/local/lib/python3.7/site-packages (from ipykernel~=4.6.0->google.colab) (5.3.4)\n",
      "Requirement already satisfied: pickleshare in /usr/local/lib/python3.7/site-packages (from ipython~=5.5.0->google.colab) (0.7.5)\n",
      "Requirement already satisfied: appnope; sys_platform == \"darwin\" in /usr/local/lib/python3.7/site-packages (from ipython~=5.5.0->google.colab) (0.1.0)\n",
      "Collecting prompt-toolkit<2.0.0,>=1.0.4\n",
      "\u001b[?25l  Downloading https://files.pythonhosted.org/packages/64/27/5fd61a451d086ad4aa806dc72fe1383d2bc0e74323668672287f616d5d51/prompt_toolkit-1.0.18-py3-none-any.whl (245kB)\n",
      "\u001b[K     |████████████████████████████████| 245kB 3.6MB/s eta 0:00:01\n",
      "\u001b[?25hCollecting simplegeneric>0.8\n",
      "  Downloading https://files.pythonhosted.org/packages/3d/57/4d9c9e3ae9a255cd4e1106bb57e24056d3d0709fc01b2e3e345898e49d5b/simplegeneric-0.8.1.zip\n",
      "Requirement already satisfied: pexpect; sys_platform != \"win32\" in /usr/local/lib/python3.7/site-packages (from ipython~=5.5.0->google.colab) (4.7.0)\n",
      "Requirement already satisfied: setuptools>=18.5 in /usr/local/lib/python3.7/site-packages (from ipython~=5.5.0->google.colab) (42.0.2)\n",
      "Requirement already satisfied: decorator in /usr/local/lib/python3.7/site-packages (from ipython~=5.5.0->google.colab) (4.4.1)\n",
      "Requirement already satisfied: pygments in /usr/local/lib/python3.7/site-packages (from ipython~=5.5.0->google.colab) (2.5.2)\n",
      "Requirement already satisfied: ipython-genutils in /usr/local/lib/python3.7/site-packages (from notebook~=5.2.0->google.colab) (0.2.0)\n",
      "Requirement already satisfied: jinja2 in /usr/local/lib/python3.7/site-packages (from notebook~=5.2.0->google.colab) (2.10.3)\n",
      "Requirement already satisfied: nbformat in /usr/local/lib/python3.7/site-packages (from notebook~=5.2.0->google.colab) (5.0.3)\n",
      "Requirement already satisfied: nbconvert in /usr/local/lib/python3.7/site-packages (from notebook~=5.2.0->google.colab) (5.6.1)\n",
      "Requirement already satisfied: jupyter-core in /usr/local/lib/python3.7/site-packages (from notebook~=5.2.0->google.colab) (4.6.1)\n",
      "Requirement already satisfied: terminado>=0.3.3; sys_platform != \"win32\" in /usr/local/lib/python3.7/site-packages (from notebook~=5.2.0->google.colab) (0.8.3)\n",
      "Requirement already satisfied: numpy>=1.12.0 in /usr/local/lib/python3.7/site-packages (from pandas~=0.24.0->google.colab) (1.18.1)\n",
      "Requirement already satisfied: pytz>=2011k in /usr/local/lib/python3.7/site-packages (from pandas~=0.24.0->google.colab) (2019.3)\n",
      "Requirement already satisfied: python-dateutil>=2.5.0 in /usr/local/lib/python3.7/site-packages (from pandas~=0.24.0->google.colab) (2.8.1)\n",
      "Requirement already satisfied: chardet<3.1.0,>=3.0.2 in /usr/local/lib/python3.7/site-packages (from requests~=2.21.0->google.colab) (3.0.4)\n",
      "Collecting urllib3<1.25,>=1.21.1\n",
      "\u001b[?25l  Downloading https://files.pythonhosted.org/packages/01/11/525b02e4acc0c747de8b6ccdab376331597c569c42ea66ab0a1dbd36eca2/urllib3-1.24.3-py2.py3-none-any.whl (118kB)\n",
      "\u001b[K     |████████████████████████████████| 122kB 4.2MB/s eta 0:00:01\n",
      "\u001b[?25hRequirement already satisfied: certifi>=2017.4.17 in /usr/local/lib/python3.7/site-packages (from requests~=2.21.0->google.colab) (2019.11.28)\n",
      "Requirement already satisfied: idna<2.9,>=2.5 in /usr/local/lib/python3.7/site-packages (from requests~=2.21.0->google.colab) (2.8)\n",
      "Requirement already satisfied: pyasn1>=0.1.3 in /usr/local/lib/python3.7/site-packages (from rsa>=3.1.4->google-auth~=1.4.0->google.colab) (0.4.8)\n",
      "Requirement already satisfied: pyzmq>=13 in /usr/local/lib/python3.7/site-packages (from jupyter-client->ipykernel~=4.6.0->google.colab) (18.1.1)\n",
      "Requirement already satisfied: wcwidth in /usr/local/lib/python3.7/site-packages (from prompt-toolkit<2.0.0,>=1.0.4->ipython~=5.5.0->google.colab) (0.1.8)\n",
      "Requirement already satisfied: ptyprocess>=0.5 in /usr/local/lib/python3.7/site-packages (from pexpect; sys_platform != \"win32\"->ipython~=5.5.0->google.colab) (0.6.0)\n",
      "Requirement already satisfied: MarkupSafe>=0.23 in /usr/local/lib/python3.7/site-packages (from jinja2->notebook~=5.2.0->google.colab) (1.1.1)\n",
      "Requirement already satisfied: jsonschema!=2.5.0,>=2.4 in /usr/local/lib/python3.7/site-packages (from nbformat->notebook~=5.2.0->google.colab) (3.2.0)\n",
      "Requirement already satisfied: entrypoints>=0.2.2 in /usr/local/lib/python3.7/site-packages (from nbconvert->notebook~=5.2.0->google.colab) (0.3)\n",
      "Requirement already satisfied: testpath in /usr/local/lib/python3.7/site-packages (from nbconvert->notebook~=5.2.0->google.colab) (0.4.4)\n",
      "Requirement already satisfied: pandocfilters>=1.4.1 in /usr/local/lib/python3.7/site-packages (from nbconvert->notebook~=5.2.0->google.colab) (1.4.2)\n",
      "Requirement already satisfied: defusedxml in /usr/local/lib/python3.7/site-packages (from nbconvert->notebook~=5.2.0->google.colab) (0.6.0)\n",
      "Requirement already satisfied: bleach in /usr/local/lib/python3.7/site-packages (from nbconvert->notebook~=5.2.0->google.colab) (3.1.0)\n",
      "Requirement already satisfied: mistune<2,>=0.8.1 in /usr/local/lib/python3.7/site-packages (from nbconvert->notebook~=5.2.0->google.colab) (0.8.4)\n",
      "Requirement already satisfied: attrs>=17.4.0 in /usr/local/lib/python3.7/site-packages (from jsonschema!=2.5.0,>=2.4->nbformat->notebook~=5.2.0->google.colab) (19.3.0)\n",
      "Requirement already satisfied: importlib-metadata; python_version < \"3.8\" in /usr/local/lib/python3.7/site-packages (from jsonschema!=2.5.0,>=2.4->nbformat->notebook~=5.2.0->google.colab) (1.4.0)\n"
     ]
    },
    {
     "name": "stdout",
     "output_type": "stream",
     "text": [
      "Requirement already satisfied: pyrsistent>=0.14.0 in /usr/local/lib/python3.7/site-packages (from jsonschema!=2.5.0,>=2.4->nbformat->notebook~=5.2.0->google.colab) (0.15.7)\n",
      "Requirement already satisfied: webencodings in /usr/local/lib/python3.7/site-packages (from bleach->nbconvert->notebook~=5.2.0->google.colab) (0.5.1)\n",
      "Requirement already satisfied: zipp>=0.5 in /usr/local/lib/python3.7/site-packages (from importlib-metadata; python_version < \"3.8\"->jsonschema!=2.5.0,>=2.4->nbformat->notebook~=5.2.0->google.colab) (1.0.0)\n",
      "Requirement already satisfied: more-itertools in /usr/local/lib/python3.7/site-packages (from zipp>=0.5->importlib-metadata; python_version < \"3.8\"->jsonschema!=2.5.0,>=2.4->nbformat->notebook~=5.2.0->google.colab) (8.1.0)\n",
      "Building wheels for collected packages: google.colab, portpicker, tornado, simplegeneric\n",
      "  Building wheel for google.colab (setup.py) ... \u001b[?25ldone\n",
      "\u001b[?25h  Created wheel for google.colab: filename=google_colab-1.0.0-py2.py3-none-any.whl size=102290 sha256=b4999126583928baa48bfdad66190c94dc3378b6c0ec92c57d6eb75e6977f746\n",
      "  Stored in directory: /Users/mariaroigporta/Library/Caches/pip/wheels/38/0d/59/701e300a337b2a2e07b27fe74dbfff0bc56ac58f711566ee67\n",
      "  Building wheel for portpicker (setup.py) ... \u001b[?25ldone\n",
      "\u001b[?25h  Created wheel for portpicker: filename=portpicker-1.2.0-cp37-none-any.whl size=13369 sha256=144bbb574db3a85f7c46ea1802ab713984168c73518802224d56d84d8f3f0ccf\n",
      "  Stored in directory: /Users/mariaroigporta/Library/Caches/pip/wheels/4a/45/47/1e126be9d4605e71f00d6e6fb151611f2f4cb9770b050c7d2d\n",
      "  Building wheel for tornado (setup.py) ... \u001b[?25ldone\n",
      "\u001b[?25h  Created wheel for tornado: filename=tornado-4.5.3-cp37-cp37m-macosx_10_15_x86_64.whl size=422266 sha256=6b7c489124da3eaef3a788d482451e0148858d97a65262a0167b57bb26a055fb\n",
      "  Stored in directory: /Users/mariaroigporta/Library/Caches/pip/wheels/72/bf/f4/b68fa69596986881b397b18ff2b9af5f8181233aadcc9f76fd\n",
      "  Building wheel for simplegeneric (setup.py) ... \u001b[?25ldone\n",
      "\u001b[?25h  Created wheel for simplegeneric: filename=simplegeneric-0.8.1-cp37-none-any.whl size=5075 sha256=22413555e7dbd7f1ef5901aa6e0f53b0d43aef47685000f99e03ab8c76144e5f\n",
      "  Stored in directory: /Users/mariaroigporta/Library/Caches/pip/wheels/a9/28/53/f24776b4c5bcbe91aaf1f1e247bd6fadd17191aa12fac63902\n",
      "Successfully built google.colab portpicker tornado simplegeneric\n",
      "\u001b[31mERROR: tensorboard 2.1.1 has requirement google-auth<2,>=1.6.3, but you'll have google-auth 1.4.2 which is incompatible.\u001b[0m\n",
      "\u001b[31mERROR: jupyter-console 6.0.0 has requirement prompt-toolkit<2.1.0,>=2.0.0, but you'll have prompt-toolkit 1.0.18 which is incompatible.\u001b[0m\n",
      "\u001b[31mERROR: htmldate 0.6.1 has requirement requests>=2.22.0; python_version > \"3.4\", but you'll have requests 2.21.0 which is incompatible.\u001b[0m\n",
      "Installing collected packages: six, google-auth, tornado, prompt-toolkit, simplegeneric, ipython, ipykernel, notebook, pandas, portpicker, urllib3, requests, google.colab\n",
      "  Found existing installation: six 1.13.0\n",
      "    Uninstalling six-1.13.0:\n",
      "      Successfully uninstalled six-1.13.0\n",
      "  Found existing installation: google-auth 1.11.0\n",
      "    Uninstalling google-auth-1.11.0:\n",
      "      Successfully uninstalled google-auth-1.11.0\n",
      "  Found existing installation: tornado 6.0.3\n",
      "    Uninstalling tornado-6.0.3:\n",
      "      Successfully uninstalled tornado-6.0.3\n",
      "  Found existing installation: prompt-toolkit 2.0.10\n",
      "    Uninstalling prompt-toolkit-2.0.10:\n",
      "      Successfully uninstalled prompt-toolkit-2.0.10\n",
      "  Found existing installation: ipython 7.11.1\n",
      "    Uninstalling ipython-7.11.1:\n",
      "      Successfully uninstalled ipython-7.11.1\n",
      "  Found existing installation: ipykernel 5.1.3\n",
      "    Uninstalling ipykernel-5.1.3:\n",
      "      Successfully uninstalled ipykernel-5.1.3\n",
      "  Found existing installation: notebook 6.0.2\n",
      "    Uninstalling notebook-6.0.2:\n",
      "      Successfully uninstalled notebook-6.0.2\n",
      "  Found existing installation: pandas 0.25.3\n",
      "    Uninstalling pandas-0.25.3:\n",
      "      Successfully uninstalled pandas-0.25.3\n",
      "  Found existing installation: urllib3 1.25.7\n",
      "    Uninstalling urllib3-1.25.7:\n",
      "      Successfully uninstalled urllib3-1.25.7\n",
      "  Found existing installation: requests 2.22.0\n",
      "    Uninstalling requests-2.22.0:\n",
      "      Successfully uninstalled requests-2.22.0\n",
      "Successfully installed google-auth-1.4.2 google.colab ipykernel-4.6.1 ipython-5.5.0 notebook-5.2.2 pandas-0.24.2 portpicker-1.2.0 prompt-toolkit-1.0.18 requests-2.21.0 simplegeneric-0.8.1 six-1.12.0 tornado-4.5.3 urllib3-1.24.3\n"
     ]
    }
   ],
   "source": [
    "!pip3 install google.colab"
   ]
  },
  {
   "cell_type": "markdown",
   "metadata": {
    "colab_type": "text",
    "id": "view-in-github"
   },
   "source": [
    "<a href=\"https://colab.research.google.com/github/meryreddoor/yogagame_/blob/primeraRama/Clean_outsider.ipynb\" target=\"_parent\"><img src=\"https://colab.research.google.com/assets/colab-badge.svg\" alt=\"Open In Colab\"/></a>"
   ]
  },
  {
   "cell_type": "code",
   "execution_count": 23,
   "metadata": {
    "colab": {},
    "colab_type": "code",
    "id": "3WkSI9B4K49D"
   },
   "outputs": [],
   "source": [
    "import json\n",
    "from keras.models import load_model\n",
    "from keras.models import model_from_json\n",
    "import cv2 \n",
    "import numpy as np"
   ]
  },
  {
   "cell_type": "code",
   "execution_count": 24,
   "metadata": {
    "colab": {},
    "colab_type": "code",
    "id": "Caxxb9kLK6e9"
   },
   "outputs": [],
   "source": [
    "from google.colab.patches import cv2_imshow"
   ]
  },
  {
   "cell_type": "code",
   "execution_count": 47,
   "metadata": {
    "colab": {},
    "colab_type": "code",
    "id": "B_4k8-1SKb7Q"
   },
   "outputs": [],
   "source": [
    "import cv2\n",
    "import numpy as np\n",
    "\n",
    "def cropImage(path):\n",
    "    # load image\n",
    "    img = cv2.imread(path)\n",
    "    rsz_img = cv2.resize(img, None, fx=2, fy=2) # resize since image is huge\n",
    "    gray = cv2.cvtColor(rsz_img, cv2.COLOR_BGR2GRAY) # convert to grayscale\n",
    "\n",
    "    # threshold to get just the signature\n",
    "    retval, thresh_gray = cv2.threshold(gray, thresh=100, maxval=255, type=cv2.THRESH_BINARY)\n",
    "\n",
    "    # find where the signature is and make a cropped region\n",
    "    points = np.argwhere(thresh_gray==0) # find where the black pixels are\n",
    "    points = np.fliplr(points) # store them in x,y coordinates instead of row,col indices\n",
    "    x, y, w, h = cv2.boundingRect(points) # create a rectangle around those points\n",
    "    x, y, w, h = x-10, y-10, w+20, h+20 # make the box a little bigger\n",
    "    crop = gray[y:y+h, x:x+w] # create a cropped region of the gray image\n",
    "\n",
    "    # get the thresholded crop\n",
    "    retval, thresh_crop = cv2.threshold(crop, thresh=200, maxval=255, type=cv2.THRESH_BINARY)\n",
    "\n",
    "    # display\n",
    "    cv2.imwrite(path,thresh_crop)\n",
    "    cv2.waitKey(0)\n",
    "    cv2_imshow(thresh_crop)\n",
    "    return"
   ]
  },
  {
   "cell_type": "code",
   "execution_count": 50,
   "metadata": {
    "colab": {
     "base_uri": "https://localhost:8080/",
     "height": 264
    },
    "colab_type": "code",
    "id": "YUgR4wqbKkok",
    "outputId": "3ba6f650-7346-4bb5-92ee-5ec79cfcb090"
   },
   "outputs": [
    {
     "data": {
      "image/png": "[encoded data removed]",
      "text/plain": [
       "<PIL.Image.Image image mode=L size=1306x1485 at 0x144371110>"
      ]
     },
     "metadata": {},
     "output_type": "display_data"
    }
   ],
   "source": [
    "cropImage('./output/sentada.jpeg')"
   ]
  },
  {
   "cell_type": "code",
   "execution_count": 0,
   "metadata": {
    "colab": {},
    "colab_type": "code",
    "id": "0bMDqfaSLN2I"
   },
   "outputs": [],
   "source": [
    "def "
   ]
  }
 ],
 "metadata": {
  "colab": {
   "authorship_tag": "ABX9TyPUicyx9F0Jhlv0nZ033/5d",
   "collapsed_sections": [],
   "include_colab_link": true,
   "name": "Clean outsider",
   "provenance": []
  },
  "kernelspec": {
   "display_name": "Python 3",
   "language": "python",
   "name": "python3"
  },
  "language_info": {
   "codemirror_mode": {
    "name": "ipython",
    "version": 3
   },
   "file_extension": ".py",
   "mimetype": "text/x-python",
   "name": "python",
   "nbconvert_exporter": "python",
   "pygments_lexer": "ipython3",
   "version": "3.7.6"
  }
 },
 "nbformat": 4,
 "nbformat_minor": 1
}
