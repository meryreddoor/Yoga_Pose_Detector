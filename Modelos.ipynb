{
  "nbformat": 4,
  "nbformat_minor": 0,
  "metadata": {
    "colab": {
      "name": "Modelos.ipynb",
      "provenance": [],
      "collapsed_sections": [],
      "mount_file_id": "1Qw9wfs9rHtL5GGInE2WlzZFirsARs6CB",
      "authorship_tag": "ABX9TyNioKT4PhJvPdnEpCn7+vEz",
      "include_colab_link": true
    },
    "kernelspec": {
      "name": "python3",
      "display_name": "Python 3"
    },
    "accelerator": "TPU"
  },
  "cells": [
    {
      "cell_type": "markdown",
      "metadata": {
        "id": "view-in-github",
        "colab_type": "text"
      },
      "source": [
        "<a href=\"https://colab.research.google.com/github/meryreddoor/yogagame_/blob/primeraRama/Modelos.ipynb\" target=\"_parent\"><img src=\"https://colab.research.google.com/assets/colab-badge.svg\" alt=\"Open In Colab\"/></a>"
      ]
    },
    {
      "cell_type": "code",
      "metadata": {
        "id": "EZ3V4Ou-oIrs",
        "colab_type": "code",
        "colab": {}
      },
      "source": [
        "import numpy as np\n",
        "import pandas as pd\n",
        "from sklearn.model_selection import train_test_split\n",
        "from PIL import Image\n",
        "from keras import backend as K\n",
        "from keras.models import Sequential\n",
        "from keras.models import load_model\n",
        "from keras.layers import Conv2D\n",
        "from keras.layers import MaxPooling2D\n",
        "from keras.layers import Flatten\n",
        "from keras.layers import Dense\n",
        "from keras.layers import Dropout\n",
        "from keras.layers import BatchNormalization\n",
        "from keras.preprocessing.image import ImageDataGenerator\n",
        "from IPython.display import display \n",
        "from PIL import Image\n",
        "import h5py\n",
        "import keras\n",
        "from sklearn.metrics import confusion_matrix\n",
        "import seaborn as sns\n",
        "import cv2\n",
        "import matplotlib.pyplot as plt\n",
        "import glob\n",
        "import json"
      ],
      "execution_count": 0,
      "outputs": []
    },
    {
      "cell_type": "code",
      "metadata": {
        "id": "QJs6tZRwoAay",
        "colab_type": "code",
        "colab": {}
      },
      "source": [
        "data = pd.read_pickle(\"/content/todos.pkl\")"
      ],
      "execution_count": 0,
      "outputs": []
    },
    {
      "cell_type": "code",
      "metadata": {
        "id": "OZUIsRNwStO5",
        "colab_type": "code",
        "outputId": "3bc194cf-3b2a-4c12-c035-e2b1a6085ac2",
        "colab": {
          "base_uri": "https://localhost:8080/",
          "height": 32
        }
      },
      "source": [
        "data.shape"
      ],
      "execution_count": 49,
      "outputs": [
        {
          "output_type": "execute_result",
          "data": {
            "text/plain": [
              "(1034, 11)"
            ]
          },
          "metadata": {
            "tags": []
          },
          "execution_count": 49
        }
      ]
    },
    {
      "cell_type": "code",
      "metadata": {
        "id": "yhbK5oMfMUX-",
        "colab_type": "code",
        "outputId": "85f8b647-2c2d-40c6-da9d-777852ae1f50",
        "colab": {
          "base_uri": "https://localhost:8080/",
          "height": 205
        }
      },
      "source": [
        "data.head(3)"
      ],
      "execution_count": 50,
      "outputs": [
        {
          "output_type": "execute_result",
          "data": {
            "text/html": [
              "<div>\n",
              "<style scoped>\n",
              "    .dataframe tbody tr th:only-of-type {\n",
              "        vertical-align: middle;\n",
              "    }\n",
              "\n",
              "    .dataframe tbody tr th {\n",
              "        vertical-align: top;\n",
              "    }\n",
              "\n",
              "    .dataframe thead th {\n",
              "        text-align: right;\n",
              "    }\n",
              "</style>\n",
              "<table border=\"1\" class=\"dataframe\">\n",
              "  <thead>\n",
              "    <tr style=\"text-align: right;\">\n",
              "      <th></th>\n",
              "      <th>pose</th>\n",
              "      <th>png</th>\n",
              "      <th>path</th>\n",
              "      <th>array</th>\n",
              "      <th>ardha matsyendrasana</th>\n",
              "      <th>bakasana</th>\n",
              "      <th>bitilasana</th>\n",
              "      <th>chaturanga dandasana</th>\n",
              "      <th>garudasana</th>\n",
              "      <th>vriksasana</th>\n",
              "      <th>gt</th>\n",
              "    </tr>\n",
              "  </thead>\n",
              "  <tbody>\n",
              "    <tr>\n",
              "      <th>0</th>\n",
              "      <td>chaturanga dandasana</td>\n",
              "      <td>33-0.png</td>\n",
              "      <td>../img/chaturanga dandasana/33-0.png</td>\n",
              "      <td>[[255, 255, 255, 255, 255, 255, 255, 255, 255,...</td>\n",
              "      <td>0</td>\n",
              "      <td>0</td>\n",
              "      <td>0</td>\n",
              "      <td>1</td>\n",
              "      <td>0</td>\n",
              "      <td>0</td>\n",
              "      <td>[0, 0, 0, 1, 0, 0]</td>\n",
              "    </tr>\n",
              "    <tr>\n",
              "      <th>1</th>\n",
              "      <td>chaturanga dandasana</td>\n",
              "      <td>76-0.png</td>\n",
              "      <td>../img/chaturanga dandasana/76-0.png</td>\n",
              "      <td>[[244, 244, 244, 244, 244, 243, 244, 244, 244,...</td>\n",
              "      <td>0</td>\n",
              "      <td>0</td>\n",
              "      <td>0</td>\n",
              "      <td>1</td>\n",
              "      <td>0</td>\n",
              "      <td>0</td>\n",
              "      <td>[0, 0, 0, 1, 0, 0]</td>\n",
              "    </tr>\n",
              "    <tr>\n",
              "      <th>2</th>\n",
              "      <td>chaturanga dandasana</td>\n",
              "      <td>50-2.png</td>\n",
              "      <td>../img/chaturanga dandasana/50-2.png</td>\n",
              "      <td>[[254, 255, 255, 175, 122, 145, 143, 146, 144,...</td>\n",
              "      <td>0</td>\n",
              "      <td>0</td>\n",
              "      <td>0</td>\n",
              "      <td>1</td>\n",
              "      <td>0</td>\n",
              "      <td>0</td>\n",
              "      <td>[0, 0, 0, 1, 0, 0]</td>\n",
              "    </tr>\n",
              "  </tbody>\n",
              "</table>\n",
              "</div>"
            ],
            "text/plain": [
              "                   pose       png  ... vriksasana                  gt\n",
              "0  chaturanga dandasana  33-0.png  ...          0  [0, 0, 0, 1, 0, 0]\n",
              "1  chaturanga dandasana  76-0.png  ...          0  [0, 0, 0, 1, 0, 0]\n",
              "2  chaturanga dandasana  50-2.png  ...          0  [0, 0, 0, 1, 0, 0]\n",
              "\n",
              "[3 rows x 11 columns]"
            ]
          },
          "metadata": {
            "tags": []
          },
          "execution_count": 50
        }
      ]
    },
    {
      "cell_type": "code",
      "metadata": {
        "id": "BM0lRvINqW8M",
        "colab_type": "code",
        "outputId": "136cc658-4acf-4b34-f4bc-e2a6df849f31",
        "colab": {
          "base_uri": "https://localhost:8080/",
          "height": 214
        }
      },
      "source": [
        "data['array']"
      ],
      "execution_count": 51,
      "outputs": [
        {
          "output_type": "execute_result",
          "data": {
            "text/plain": [
              "0       [[255, 255, 255, 255, 255, 255, 255, 255, 255,...\n",
              "1       [[244, 244, 244, 244, 244, 243, 244, 244, 244,...\n",
              "2       [[254, 255, 255, 175, 122, 145, 143, 146, 144,...\n",
              "3       [[246, 241, 247, 246, 247, 226, 219, 226, 224,...\n",
              "4       [[196, 190, 198, 196, 198, 197, 198, 200, 196,...\n",
              "                              ...                        \n",
              "1029    [[255, 255, 255, 255, 255, 255, 255, 255, 255,...\n",
              "1030    [[255, 255, 255, 255, 255, 255, 255, 255, 255,...\n",
              "1031    [[203, 203, 204, 204, 205, 205, 205, 205, 205,...\n",
              "1032    [[255, 255, 255, 255, 255, 255, 255, 255, 255,...\n",
              "1033    [[254, 255, 255, 255, 255, 255, 255, 255, 255,...\n",
              "Name: array, Length: 1034, dtype: object"
            ]
          },
          "metadata": {
            "tags": []
          },
          "execution_count": 51
        }
      ]
    },
    {
      "cell_type": "code",
      "metadata": {
        "id": "qtajRTCpn9vu",
        "colab_type": "code",
        "outputId": "f68d4bc2-95c9-4e53-83e8-7fb879933b65",
        "colab": {
          "base_uri": "https://localhost:8080/",
          "height": 65
        }
      },
      "source": [
        "data.columns"
      ],
      "execution_count": 52,
      "outputs": [
        {
          "output_type": "execute_result",
          "data": {
            "text/plain": [
              "Index(['pose', 'png', 'path', 'array', 'ardha matsyendrasana', 'bakasana',\n",
              "       'bitilasana', 'chaturanga dandasana', 'garudasana', 'vriksasana', 'gt'],\n",
              "      dtype='object')"
            ]
          },
          "metadata": {
            "tags": []
          },
          "execution_count": 52
        }
      ]
    },
    {
      "cell_type": "code",
      "metadata": {
        "id": "rjbXpzUjqswM",
        "colab_type": "code",
        "colab": {}
      },
      "source": [
        "X = np.stack(data['array'])\n",
        "X = X / 255.0\n",
        "y = np.stack(data['gt'])"
      ],
      "execution_count": 0,
      "outputs": []
    },
    {
      "cell_type": "code",
      "metadata": {
        "id": "7GDcrqIBiNnE",
        "colab_type": "code",
        "outputId": "ffeb8820-ee15-4740-e906-52f302131dfd",
        "colab": {
          "base_uri": "https://localhost:8080/",
          "height": 32
        }
      },
      "source": [
        "y.shape"
      ],
      "execution_count": 54,
      "outputs": [
        {
          "output_type": "execute_result",
          "data": {
            "text/plain": [
              "(1034, 6)"
            ]
          },
          "metadata": {
            "tags": []
          },
          "execution_count": 54
        }
      ]
    },
    {
      "cell_type": "code",
      "metadata": {
        "id": "HSDrD7kNq_Ji",
        "colab_type": "code",
        "outputId": "a777bb00-a503-4408-af44-6a0532cb031b",
        "colab": {
          "base_uri": "https://localhost:8080/",
          "height": 32
        }
      },
      "source": [
        "X.shape"
      ],
      "execution_count": 55,
      "outputs": [
        {
          "output_type": "execute_result",
          "data": {
            "text/plain": [
              "(1034, 224, 224)"
            ]
          },
          "metadata": {
            "tags": []
          },
          "execution_count": 55
        }
      ]
    },
    {
      "cell_type": "code",
      "metadata": {
        "id": "6h3gSM5JrBLi",
        "colab_type": "code",
        "colab": {}
      },
      "source": [
        "X_train, X_test, y_train, y_test = train_test_split(X, y, test_size=0.2, random_state=42)"
      ],
      "execution_count": 0,
      "outputs": []
    },
    {
      "cell_type": "code",
      "metadata": {
        "id": "ZOJonKFBr1lz",
        "colab_type": "code",
        "colab": {}
      },
      "source": [
        "\n",
        "img_rows, img_cols = 224, 224"
      ],
      "execution_count": 0,
      "outputs": []
    },
    {
      "cell_type": "code",
      "metadata": {
        "id": "O0wobiilrIFq",
        "colab_type": "code",
        "colab": {}
      },
      "source": [
        "# para poner el canala que falta\n",
        "if K.image_data_format() == 'channels_first':\n",
        "    X_train = X_train.reshape(X_train.shape[0], 1, img_rows, img_cols)\n",
        "    X_test = X_test.reshape(X_test.shape[0], 1, img_rows, img_cols)\n",
        "    input_shape = (1, img_rows, img_cols)\n",
        "else:\n",
        "    X_train = X_train.reshape(X_train.shape[0], img_rows, img_cols, 1)\n",
        "    X_test = X_test.reshape(X_test.shape[0], img_rows, img_cols, 1)\n",
        "    input_shape = (img_rows, img_cols, 1)"
      ],
      "execution_count": 0,
      "outputs": []
    },
    {
      "cell_type": "code",
      "metadata": {
        "id": "govFi9XYX67j",
        "colab_type": "code",
        "outputId": "983208b7-3337-497d-b6e1-846a02059607",
        "colab": {
          "base_uri": "https://localhost:8080/",
          "height": 32
        }
      },
      "source": [
        "X.shape"
      ],
      "execution_count": 59,
      "outputs": [
        {
          "output_type": "execute_result",
          "data": {
            "text/plain": [
              "(1034, 224, 224)"
            ]
          },
          "metadata": {
            "tags": []
          },
          "execution_count": 59
        }
      ]
    },
    {
      "cell_type": "code",
      "metadata": {
        "id": "5od5mh_SWJla",
        "colab_type": "code",
        "outputId": "d1ee4ad8-9a4c-47ea-a1e7-73ebb67d5c55",
        "colab": {
          "base_uri": "https://localhost:8080/",
          "height": 52
        }
      },
      "source": [
        "'''#DATA AUGMENTATION\n",
        "\n",
        "datagen = ImageDataGenerator(rescale=1./255,\n",
        "                                   shear_range=0.2,\n",
        "                                   zoom_range=0.2,\n",
        "                                   horizontal_flip=True)\n",
        "\n",
        "train_generator = datagen.flow(X_train,y_train)\n",
        "\n",
        "validation_generator = datagen.flow(X_test,y_test)'''"
      ],
      "execution_count": 60,
      "outputs": [
        {
          "output_type": "execute_result",
          "data": {
            "text/plain": [
              "'#DATA AUGMENTATION\\n\\ndatagen = ImageDataGenerator(rescale=1./255,\\n                                   shear_range=0.2,\\n                                   zoom_range=0.2,\\n                                   horizontal_flip=True)\\n\\ntrain_generator = datagen.flow(X_train,y_train)\\n\\nvalidation_generator = datagen.flow(X_test,y_test)'"
            ]
          },
          "metadata": {
            "tags": []
          },
          "execution_count": 60
        }
      ]
    },
    {
      "cell_type": "code",
      "metadata": {
        "id": "saiHWcCyZixv",
        "colab_type": "code",
        "outputId": "6e959d70-3be2-444f-be2a-8e836566418e",
        "colab": {
          "base_uri": "https://localhost:8080/",
          "height": 1000
        }
      },
      "source": [
        "n_classes = 6\n",
        "batch_size = 32\n",
        "\n",
        "model = Sequential()\n",
        "model.add(Conv2D(32, (3, 3), activation='relu',input_shape = X_train.shape[1:]))\n",
        "model.add(MaxPooling2D(pool_size=(2, 2)))\n",
        " \n",
        "model.add(Conv2D(64, (3, 3), activation='relu'))\n",
        "model.add(MaxPooling2D(pool_size=(2, 2)))\n",
        "model.add(Dropout(0.5))\n",
        "\n",
        "model.add(Conv2D(64, (3, 3), activation='relu'))\n",
        "model.add(MaxPooling2D(pool_size=(2, 2)))\n",
        "model.add(Dropout(0.5))\n",
        " \n",
        "model.add(Conv2D(128, (3, 3), activation='relu'))\n",
        "model.add(MaxPooling2D(pool_size=(2, 2)))\n",
        "model.add(Dropout(0.5))\n",
        "\n",
        "model.add(Flatten())\n",
        "model.add(Dense(64, activation='relu'))\n",
        "model.add(Dropout(0.5))\n",
        "model.add(Dense(n_classes, activation='softmax'))\n",
        "\n",
        "model.compile(loss='categorical_crossentropy', optimizer='adam',\n",
        "              metrics=['accuracy'])\n",
        "\n",
        "\n",
        "model.fit(X_train,y_train,\n",
        "               batch_size = batch_size,\n",
        "               epochs = 30,\n",
        "               verbose = 1,\n",
        "               validation_data = (X_test,y_test))"
      ],
      "execution_count": 61,
      "outputs": [
        {
          "output_type": "stream",
          "text": [
            "Train on 827 samples, validate on 207 samples\n",
            "Epoch 1/30\n",
            "827/827 [==============================] - 70s 84ms/step - loss: 1.8451 - acc: 0.1415 - val_loss: 1.7921 - val_acc: 0.1787\n",
            "Epoch 2/30\n",
            "827/827 [==============================] - 69s 83ms/step - loss: 1.7811 - acc: 0.2019 - val_loss: 1.7928 - val_acc: 0.2077\n",
            "Epoch 3/30\n",
            "827/827 [==============================] - 69s 83ms/step - loss: 1.7512 - acc: 0.2515 - val_loss: 1.7399 - val_acc: 0.2367\n",
            "Epoch 4/30\n",
            "827/827 [==============================] - 69s 84ms/step - loss: 1.6227 - acc: 0.3156 - val_loss: 1.6453 - val_acc: 0.3527\n",
            "Epoch 5/30\n",
            "827/827 [==============================] - 69s 84ms/step - loss: 1.5747 - acc: 0.3567 - val_loss: 1.5072 - val_acc: 0.4155\n",
            "Epoch 6/30\n",
            "827/827 [==============================] - 69s 84ms/step - loss: 1.4487 - acc: 0.3894 - val_loss: 1.5204 - val_acc: 0.4444\n",
            "Epoch 7/30\n",
            "827/827 [==============================] - 69s 84ms/step - loss: 1.4491 - acc: 0.3881 - val_loss: 1.5546 - val_acc: 0.5459\n",
            "Epoch 8/30\n",
            "827/827 [==============================] - 69s 83ms/step - loss: 1.3805 - acc: 0.4220 - val_loss: 1.4491 - val_acc: 0.5266\n",
            "Epoch 9/30\n",
            "827/827 [==============================] - 69s 83ms/step - loss: 1.3016 - acc: 0.4486 - val_loss: 1.2408 - val_acc: 0.6715\n",
            "Epoch 10/30\n",
            "827/827 [==============================] - 69s 83ms/step - loss: 1.1965 - acc: 0.4933 - val_loss: 1.0582 - val_acc: 0.6570\n",
            "Epoch 11/30\n",
            "827/827 [==============================] - 69s 83ms/step - loss: 1.1438 - acc: 0.5200 - val_loss: 0.9994 - val_acc: 0.7005\n",
            "Epoch 12/30\n",
            "827/827 [==============================] - 69s 83ms/step - loss: 1.1318 - acc: 0.5151 - val_loss: 0.8862 - val_acc: 0.7343\n",
            "Epoch 13/30\n",
            "827/827 [==============================] - 69s 84ms/step - loss: 1.0737 - acc: 0.5393 - val_loss: 0.8500 - val_acc: 0.7633\n",
            "Epoch 14/30\n",
            "827/827 [==============================] - 69s 84ms/step - loss: 1.0244 - acc: 0.5623 - val_loss: 0.9211 - val_acc: 0.6908\n",
            "Epoch 15/30\n",
            "827/827 [==============================] - 69s 84ms/step - loss: 0.9495 - acc: 0.5889 - val_loss: 0.6897 - val_acc: 0.7826\n",
            "Epoch 16/30\n",
            "827/827 [==============================] - 70s 84ms/step - loss: 0.9092 - acc: 0.6070 - val_loss: 0.7372 - val_acc: 0.7826\n",
            "Epoch 17/30\n",
            "827/827 [==============================] - 69s 84ms/step - loss: 0.9408 - acc: 0.5792 - val_loss: 0.7141 - val_acc: 0.7826\n",
            "Epoch 18/30\n",
            "827/827 [==============================] - 69s 84ms/step - loss: 0.8636 - acc: 0.6312 - val_loss: 0.6543 - val_acc: 0.8068\n",
            "Epoch 19/30\n",
            "827/827 [==============================] - 70s 84ms/step - loss: 0.8478 - acc: 0.6590 - val_loss: 0.5806 - val_acc: 0.8406\n",
            "Epoch 20/30\n",
            "827/827 [==============================] - 73s 89ms/step - loss: 0.7699 - acc: 0.6626 - val_loss: 0.6411 - val_acc: 0.7874\n",
            "Epoch 21/30\n",
            "827/827 [==============================] - 75s 90ms/step - loss: 0.7527 - acc: 0.6856 - val_loss: 0.5615 - val_acc: 0.8502\n",
            "Epoch 22/30\n",
            "827/827 [==============================] - 72s 87ms/step - loss: 0.7401 - acc: 0.6904 - val_loss: 0.6122 - val_acc: 0.8309\n",
            "Epoch 23/30\n",
            "827/827 [==============================] - 70s 85ms/step - loss: 0.7092 - acc: 0.6953 - val_loss: 0.5357 - val_acc: 0.8406\n",
            "Epoch 24/30\n",
            "827/827 [==============================] - 70s 85ms/step - loss: 0.7116 - acc: 0.7110 - val_loss: 0.5255 - val_acc: 0.8068\n",
            "Epoch 25/30\n",
            "827/827 [==============================] - 70s 85ms/step - loss: 0.6718 - acc: 0.7146 - val_loss: 0.5208 - val_acc: 0.8309\n",
            "Epoch 26/30\n",
            "827/827 [==============================] - 70s 85ms/step - loss: 0.7191 - acc: 0.7013 - val_loss: 0.5110 - val_acc: 0.8406\n",
            "Epoch 27/30\n",
            "827/827 [==============================] - 70s 85ms/step - loss: 0.6368 - acc: 0.7158 - val_loss: 0.5011 - val_acc: 0.8406\n",
            "Epoch 28/30\n",
            "827/827 [==============================] - 69s 84ms/step - loss: 0.6658 - acc: 0.7231 - val_loss: 0.5081 - val_acc: 0.8551\n",
            "Epoch 29/30\n",
            "827/827 [==============================] - 69s 84ms/step - loss: 0.6087 - acc: 0.7545 - val_loss: 0.4582 - val_acc: 0.8696\n",
            "Epoch 30/30\n",
            "827/827 [==============================] - 70s 84ms/step - loss: 0.6187 - acc: 0.7364 - val_loss: 0.4952 - val_acc: 0.8502\n"
          ],
          "name": "stdout"
        },
        {
          "output_type": "execute_result",
          "data": {
            "text/plain": [
              "<keras.callbacks.History at 0x7f7042237668>"
            ]
          },
          "metadata": {
            "tags": []
          },
          "execution_count": 61
        }
      ]
    },
    {
      "cell_type": "code",
      "metadata": {
        "id": "Q8vxHuQlZkOB",
        "colab_type": "code",
        "outputId": "1a7ed94a-51e3-4d1c-a9d6-cc57fe22f2d8",
        "colab": {
          "base_uri": "https://localhost:8080/",
          "height": 52
        }
      },
      "source": [
        "'''STEP_SIZE_VALID=validation_generator.n//validation_generator.batch_size\n",
        "STEP_SIZE_TRAIN=train_generator.n//train_generator.batch_size\n",
        "\n",
        "model.fit_generator(train_generator,\n",
        "                    steps_per_epoch=STEP_SIZE_TRAIN,\n",
        "                    epochs=20,\n",
        "                    validation_data=validation_generator,\n",
        "                    validation_steps=STEP_SIZE_VALID)'''"
      ],
      "execution_count": 62,
      "outputs": [
        {
          "output_type": "execute_result",
          "data": {
            "text/plain": [
              "'STEP_SIZE_VALID=validation_generator.n//validation_generator.batch_size\\nSTEP_SIZE_TRAIN=train_generator.n//train_generator.batch_size\\n\\nmodel.fit_generator(train_generator,\\n                    steps_per_epoch=STEP_SIZE_TRAIN,\\n                    epochs=20,\\n                    validation_data=validation_generator,\\n                    validation_steps=STEP_SIZE_VALID)'"
            ]
          },
          "metadata": {
            "tags": []
          },
          "execution_count": 62
        }
      ]
    },
    {
      "cell_type": "code",
      "metadata": {
        "id": "nwRmwcJsfjue",
        "colab_type": "code",
        "outputId": "ddfc3e7c-80d4-4cff-eec5-216e067bc1cb",
        "colab": {
          "base_uri": "https://localhost:8080/",
          "height": 65
        }
      },
      "source": [
        "scores = model.evaluate(X_test, y_test, verbose=0)\n",
        "print(\"Accuracy: %.2f%%\" % (scores[1]*100))\n",
        "print('Test loss:', scores[0])\n",
        "print('Test accuracy:', scores[1])\n"
      ],
      "execution_count": 63,
      "outputs": [
        {
          "output_type": "stream",
          "text": [
            "Accuracy: 85.02%\n",
            "Test loss: 0.4952431187249612\n",
            "Test accuracy: 0.8502415467575553\n"
          ],
          "name": "stdout"
        }
      ]
    },
    {
      "cell_type": "code",
      "metadata": {
        "id": "jDPBPL87w_7l",
        "colab_type": "code",
        "outputId": "08e04300-1007-46a7-c527-d6cbfd37e5ca",
        "colab": {
          "base_uri": "https://localhost:8080/",
          "height": 65
        }
      },
      "source": [
        "#Columnas del df\n",
        "data.columns"
      ],
      "execution_count": 64,
      "outputs": [
        {
          "output_type": "execute_result",
          "data": {
            "text/plain": [
              "Index(['pose', 'png', 'path', 'array', 'ardha matsyendrasana', 'bakasana',\n",
              "       'bitilasana', 'chaturanga dandasana', 'garudasana', 'vriksasana', 'gt'],\n",
              "      dtype='object')"
            ]
          },
          "metadata": {
            "tags": []
          },
          "execution_count": 64
        }
      ]
    },
    {
      "cell_type": "code",
      "metadata": {
        "id": "uvDo24C5xKb_",
        "colab_type": "code",
        "outputId": "a59e54c3-4c73-4b39-e114-b241c92ab77c",
        "colab": {
          "base_uri": "https://localhost:8080/",
          "height": 511
        }
      },
      "source": [
        "Y_pred = model.predict(X_test)\n",
        "# Convert predictions classes to one hot vectors \n",
        "Y_pred_classes = np.argmax(Y_pred,axis = 1) \n",
        "# Convert validation observations to one hot vectors\n",
        "'''print(Y_pred_classes)\n",
        "'''\n",
        "Y_true = np.argmax(y_test,axis = 1)\n",
        "'''print(Y_true)'''\n",
        "# compute the confusion matrix\n",
        "cm = confusion_matrix(Y_true, Y_pred_classes)\n",
        "cm = cm.astype('float') / cm.sum(axis=1)[:, np.newaxis]\n",
        "# plot the confusion matrix\n",
        "f,ax = plt.subplots(figsize=(8, 8))\n",
        "sns.heatmap(cm, annot=True, linewidths=0.01,cmap=\"YlGnBu\",linecolor=\"gray\", fmt= '.1f',ax=ax)\n",
        "plt.xlabel(\"Predicted Label\")\n",
        "plt.ylabel(\"True Label\")\n",
        "plt.title(\"Confusion Matrix\")\n",
        "plt.show()"
      ],
      "execution_count": 65,
      "outputs": [
        {
          "output_type": "display_data",
          "data": {
            "image/png": "[encoded data removed]",
            "text/plain": [
              "<Figure size 576x576 with 2 Axes>"
            ]
          },
          "metadata": {
            "tags": []
          }
        }
      ]
    },
    {
      "cell_type": "code",
      "metadata": {
        "id": "8TgMGI8UgT31",
        "colab_type": "code",
        "outputId": "a2172666-9ba2-42df-8c16-943cb058f73a",
        "colab": {
          "base_uri": "https://localhost:8080/",
          "height": 334
        }
      },
      "source": [
        "%matplotlib inline\n",
        "import matplotlib.pyplot as plt\n",
        "from PIL import Image\n",
        "\n",
        "img = X_test[2]\n",
        "pred = model.predict(np.expand_dims(img,axis=0))[0]\n",
        "print(pred)\n",
        "\n",
        "print(np.expand_dims(img,axis=0).shape)\n",
        "plt.imshow(Image.fromarray(img.squeeze()*255))\n",
        "print(\"Probs -> ardha matsyendrasana:{0:.5f} bakasana:{1:.5f} bitilasana:{2:.5f} chaturanga dandasana:{3:.5f} garudasana:{4:.5f} vriksasana:{5:.5f}\".format(pred[0],pred[1],pred[2],pred[3],pred[4],pred[5]))"
      ],
      "execution_count": 66,
      "outputs": [
        {
          "output_type": "stream",
          "text": [
            "[1.4553468e-02 9.6612197e-01 9.6929474e-03 6.2307185e-03 3.0829690e-03\n",
            " 3.1783344e-04]\n",
            "(1, 224, 224, 1)\n",
            "Probs -> ardha matsyendrasana:0.01455 bakasana:0.96612 bitilasana:0.00969 chaturanga dandasana:0.00623 garudasana:0.00308 vriksasana:0.00032\n"
          ],
          "name": "stdout"
        },
        {
          "output_type": "display_data",
          "data": {
            "image/png": "[encoded data removed]",
            "text/plain": [
              "<Figure size 432x288 with 1 Axes>"
            ]
          },
          "metadata": {
            "tags": []
          }
        }
      ]
    },
    {
      "cell_type": "code",
      "metadata": {
        "id": "32qce_kfRw36",
        "colab_type": "code",
        "colab": {}
      },
      "source": [
        "import cv2\n",
        "import numpy as np\n",
        "from google.colab.patches import cv2_imshow\n",
        "\n",
        "def cortarImagen(path):\n",
        "  # load image\n",
        "  img = cv2.imread(path) \n",
        "  rsz_img = cv2.resize(img, None, fx=1, fy=1) # resize since image is huge\n",
        "  gray = cv2.cvtColor(rsz_img, cv2.COLOR_BGR2GRAY) # convert to grayscale\n",
        "\n",
        "  # threshold to get just the signature\n",
        "  retval, thresh_gray = cv2.threshold(gray, thresh=100, maxval=255, type=cv2.THRESH_BINARY)\n",
        "\n",
        "  # find where the signature is and make a cropped region\n",
        "  points = np.argwhere(thresh_gray==0) # find where the black pixels are\n",
        "  points = np.fliplr(points) # store them in x,y coordinates instead of row,col indices\n",
        "  x, y, w, h = cv2.boundingRect(points) # create a rectangle around those points\n",
        "  x, y, w, h = x-10, y-10, w+20, h+20 # make the box a little bigger\n",
        "  crop = gray[y:y+h, x:x+w] # create a cropped region of the gray image\n",
        "\n",
        "  # get the thresholded crop\n",
        "  retval, thresh_crop = cv2.threshold(crop, thresh=200, maxval=255, type=cv2.THRESH_BINARY)\n",
        "\n",
        "  # display\n",
        "  cv2.imwrite(path,thresh_crop)\n",
        "  cv2.waitKey(0)\n",
        "  return cv2_imshow(thresh_crop)"
      ],
      "execution_count": 0,
      "outputs": []
    },
    {
      "cell_type": "code",
      "metadata": {
        "colab_type": "code",
        "id": "BKt_rKmAc3ow",
        "colab": {}
      },
      "source": [
        "def makeImagDf(path):\n",
        "    dictionary = {}\n",
        "    for paths in glob.glob(path):\n",
        "        dictionary.setdefault('pose', []).append(paths.split('/')[-2])\n",
        "        dictionary.setdefault('png', []).append(paths.split('/')[-1])\n",
        "        dictionary.setdefault('path', []).append(paths)\n",
        "        dictionary.setdefault('array', []).append(cv2.resize(cv2.imread(paths, cv2.IMREAD_GRAYSCALE),(224,224)))\n",
        "    images = pd.DataFrame(dictionary)\n",
        "    return images"
      ],
      "execution_count": 0,
      "outputs": []
    },
    {
      "cell_type": "code",
      "metadata": {
        "colab_type": "code",
        "id": "IbdkN9fGc1-M",
        "colab": {}
      },
      "source": [
        "data_ima = makeImagDf('/content/ejemplo acostado.jpg')"
      ],
      "execution_count": 0,
      "outputs": []
    },
    {
      "cell_type": "code",
      "metadata": {
        "id": "ZY3ufNZz1n8m",
        "colab_type": "code",
        "outputId": "8b30be4a-96ae-4373-cc46-0a0ed0ae50d5",
        "colab": {
          "base_uri": "https://localhost:8080/",
          "height": 31
        }
      },
      "source": [
        "data_ima.head()"
      ],
      "execution_count": 70,
      "outputs": [
        {
          "output_type": "execute_result",
          "data": {
            "text/html": [
              "<div>\n",
              "<style scoped>\n",
              "    .dataframe tbody tr th:only-of-type {\n",
              "        vertical-align: middle;\n",
              "    }\n",
              "\n",
              "    .dataframe tbody tr th {\n",
              "        vertical-align: top;\n",
              "    }\n",
              "\n",
              "    .dataframe thead th {\n",
              "        text-align: right;\n",
              "    }\n",
              "</style>\n",
              "<table border=\"1\" class=\"dataframe\">\n",
              "  <thead>\n",
              "    <tr style=\"text-align: right;\">\n",
              "      <th></th>\n",
              "    </tr>\n",
              "  </thead>\n",
              "  <tbody>\n",
              "  </tbody>\n",
              "</table>\n",
              "</div>"
            ],
            "text/plain": [
              "Empty DataFrame\n",
              "Columns: []\n",
              "Index: []"
            ]
          },
          "metadata": {
            "tags": []
          },
          "execution_count": 70
        }
      ]
    },
    {
      "cell_type": "code",
      "metadata": {
        "id": "55iz1ymECYx4",
        "colab_type": "code",
        "colab": {
          "base_uri": "https://localhost:8080/",
          "height": 677
        },
        "outputId": "fadce5b1-e5b1-4c49-be1c-729cb0b8b4fa"
      },
      "source": [
        "\n",
        "outsider_img = np.stack(data_ima['array'])\n",
        "outsider_img = outsider_img / 255"
      ],
      "execution_count": 71,
      "outputs": [
        {
          "output_type": "error",
          "ename": "KeyError",
          "evalue": "ignored",
          "traceback": [
            "\u001b[0;31m---------------------------------------------------------------------------\u001b[0m",
            "\u001b[0;31mKeyError\u001b[0m                                  Traceback (most recent call last)",
            "\u001b[0;32m/usr/local/lib/python3.6/dist-packages/pandas/core/indexes/base.py\u001b[0m in \u001b[0;36mget_loc\u001b[0;34m(self, key, method, tolerance)\u001b[0m\n\u001b[1;32m   2896\u001b[0m             \u001b[0;32mtry\u001b[0m\u001b[0;34m:\u001b[0m\u001b[0;34m\u001b[0m\u001b[0;34m\u001b[0m\u001b[0m\n\u001b[0;32m-> 2897\u001b[0;31m                 \u001b[0;32mreturn\u001b[0m \u001b[0mself\u001b[0m\u001b[0;34m.\u001b[0m\u001b[0m_engine\u001b[0m\u001b[0;34m.\u001b[0m\u001b[0mget_loc\u001b[0m\u001b[0;34m(\u001b[0m\u001b[0mkey\u001b[0m\u001b[0;34m)\u001b[0m\u001b[0;34m\u001b[0m\u001b[0;34m\u001b[0m\u001b[0m\n\u001b[0m\u001b[1;32m   2898\u001b[0m             \u001b[0;32mexcept\u001b[0m \u001b[0mKeyError\u001b[0m\u001b[0;34m:\u001b[0m\u001b[0;34m\u001b[0m\u001b[0;34m\u001b[0m\u001b[0m\n",
            "\u001b[0;32mpandas/_libs/index.pyx\u001b[0m in \u001b[0;36mpandas._libs.index.IndexEngine.get_loc\u001b[0;34m()\u001b[0m\n",
            "\u001b[0;32mpandas/_libs/index.pyx\u001b[0m in \u001b[0;36mpandas._libs.index.IndexEngine.get_loc\u001b[0;34m()\u001b[0m\n",
            "\u001b[0;32mpandas/_libs/hashtable_class_helper.pxi\u001b[0m in \u001b[0;36mpandas._libs.hashtable.PyObjectHashTable.get_item\u001b[0;34m()\u001b[0m\n",
            "\u001b[0;32mpandas/_libs/hashtable_class_helper.pxi\u001b[0m in \u001b[0;36mpandas._libs.hashtable.PyObjectHashTable.get_item\u001b[0;34m()\u001b[0m\n",
            "\u001b[0;31mKeyError\u001b[0m: 'array'",
            "\nDuring handling of the above exception, another exception occurred:\n",
            "\u001b[0;31mKeyError\u001b[0m                                  Traceback (most recent call last)",
            "\u001b[0;32m<ipython-input-71-d381f84ed2e4>\u001b[0m in \u001b[0;36m<module>\u001b[0;34m()\u001b[0m\n\u001b[1;32m      1\u001b[0m \u001b[0;34m\u001b[0m\u001b[0m\n\u001b[0;32m----> 2\u001b[0;31m \u001b[0moutsider_img\u001b[0m \u001b[0;34m=\u001b[0m \u001b[0mnp\u001b[0m\u001b[0;34m.\u001b[0m\u001b[0mstack\u001b[0m\u001b[0;34m(\u001b[0m\u001b[0mdata_ima\u001b[0m\u001b[0;34m[\u001b[0m\u001b[0;34m'array'\u001b[0m\u001b[0;34m]\u001b[0m\u001b[0;34m)\u001b[0m\u001b[0;34m\u001b[0m\u001b[0;34m\u001b[0m\u001b[0m\n\u001b[0m\u001b[1;32m      3\u001b[0m \u001b[0moutsider_img\u001b[0m \u001b[0;34m=\u001b[0m \u001b[0moutsider_img\u001b[0m \u001b[0;34m/\u001b[0m \u001b[0;36m255\u001b[0m\u001b[0;34m\u001b[0m\u001b[0;34m\u001b[0m\u001b[0m\n",
            "\u001b[0;32m/usr/local/lib/python3.6/dist-packages/pandas/core/frame.py\u001b[0m in \u001b[0;36m__getitem__\u001b[0;34m(self, key)\u001b[0m\n\u001b[1;32m   2993\u001b[0m             \u001b[0;32mif\u001b[0m \u001b[0mself\u001b[0m\u001b[0;34m.\u001b[0m\u001b[0mcolumns\u001b[0m\u001b[0;34m.\u001b[0m\u001b[0mnlevels\u001b[0m \u001b[0;34m>\u001b[0m \u001b[0;36m1\u001b[0m\u001b[0;34m:\u001b[0m\u001b[0;34m\u001b[0m\u001b[0;34m\u001b[0m\u001b[0m\n\u001b[1;32m   2994\u001b[0m                 \u001b[0;32mreturn\u001b[0m \u001b[0mself\u001b[0m\u001b[0;34m.\u001b[0m\u001b[0m_getitem_multilevel\u001b[0m\u001b[0;34m(\u001b[0m\u001b[0mkey\u001b[0m\u001b[0;34m)\u001b[0m\u001b[0;34m\u001b[0m\u001b[0;34m\u001b[0m\u001b[0m\n\u001b[0;32m-> 2995\u001b[0;31m             \u001b[0mindexer\u001b[0m \u001b[0;34m=\u001b[0m \u001b[0mself\u001b[0m\u001b[0;34m.\u001b[0m\u001b[0mcolumns\u001b[0m\u001b[0;34m.\u001b[0m\u001b[0mget_loc\u001b[0m\u001b[0;34m(\u001b[0m\u001b[0mkey\u001b[0m\u001b[0;34m)\u001b[0m\u001b[0;34m\u001b[0m\u001b[0;34m\u001b[0m\u001b[0m\n\u001b[0m\u001b[1;32m   2996\u001b[0m             \u001b[0;32mif\u001b[0m \u001b[0mis_integer\u001b[0m\u001b[0;34m(\u001b[0m\u001b[0mindexer\u001b[0m\u001b[0;34m)\u001b[0m\u001b[0;34m:\u001b[0m\u001b[0;34m\u001b[0m\u001b[0;34m\u001b[0m\u001b[0m\n\u001b[1;32m   2997\u001b[0m                 \u001b[0mindexer\u001b[0m \u001b[0;34m=\u001b[0m \u001b[0;34m[\u001b[0m\u001b[0mindexer\u001b[0m\u001b[0;34m]\u001b[0m\u001b[0;34m\u001b[0m\u001b[0;34m\u001b[0m\u001b[0m\n",
            "\u001b[0;32m/usr/local/lib/python3.6/dist-packages/pandas/core/indexes/base.py\u001b[0m in \u001b[0;36mget_loc\u001b[0;34m(self, key, method, tolerance)\u001b[0m\n\u001b[1;32m   2897\u001b[0m                 \u001b[0;32mreturn\u001b[0m \u001b[0mself\u001b[0m\u001b[0;34m.\u001b[0m\u001b[0m_engine\u001b[0m\u001b[0;34m.\u001b[0m\u001b[0mget_loc\u001b[0m\u001b[0;34m(\u001b[0m\u001b[0mkey\u001b[0m\u001b[0;34m)\u001b[0m\u001b[0;34m\u001b[0m\u001b[0;34m\u001b[0m\u001b[0m\n\u001b[1;32m   2898\u001b[0m             \u001b[0;32mexcept\u001b[0m \u001b[0mKeyError\u001b[0m\u001b[0;34m:\u001b[0m\u001b[0;34m\u001b[0m\u001b[0;34m\u001b[0m\u001b[0m\n\u001b[0;32m-> 2899\u001b[0;31m                 \u001b[0;32mreturn\u001b[0m \u001b[0mself\u001b[0m\u001b[0;34m.\u001b[0m\u001b[0m_engine\u001b[0m\u001b[0;34m.\u001b[0m\u001b[0mget_loc\u001b[0m\u001b[0;34m(\u001b[0m\u001b[0mself\u001b[0m\u001b[0;34m.\u001b[0m\u001b[0m_maybe_cast_indexer\u001b[0m\u001b[0;34m(\u001b[0m\u001b[0mkey\u001b[0m\u001b[0;34m)\u001b[0m\u001b[0;34m)\u001b[0m\u001b[0;34m\u001b[0m\u001b[0;34m\u001b[0m\u001b[0m\n\u001b[0m\u001b[1;32m   2900\u001b[0m         \u001b[0mindexer\u001b[0m \u001b[0;34m=\u001b[0m \u001b[0mself\u001b[0m\u001b[0;34m.\u001b[0m\u001b[0mget_indexer\u001b[0m\u001b[0;34m(\u001b[0m\u001b[0;34m[\u001b[0m\u001b[0mkey\u001b[0m\u001b[0;34m]\u001b[0m\u001b[0;34m,\u001b[0m \u001b[0mmethod\u001b[0m\u001b[0;34m=\u001b[0m\u001b[0mmethod\u001b[0m\u001b[0;34m,\u001b[0m \u001b[0mtolerance\u001b[0m\u001b[0;34m=\u001b[0m\u001b[0mtolerance\u001b[0m\u001b[0;34m)\u001b[0m\u001b[0;34m\u001b[0m\u001b[0;34m\u001b[0m\u001b[0m\n\u001b[1;32m   2901\u001b[0m         \u001b[0;32mif\u001b[0m \u001b[0mindexer\u001b[0m\u001b[0;34m.\u001b[0m\u001b[0mndim\u001b[0m \u001b[0;34m>\u001b[0m \u001b[0;36m1\u001b[0m \u001b[0;32mor\u001b[0m \u001b[0mindexer\u001b[0m\u001b[0;34m.\u001b[0m\u001b[0msize\u001b[0m \u001b[0;34m>\u001b[0m \u001b[0;36m1\u001b[0m\u001b[0;34m:\u001b[0m\u001b[0;34m\u001b[0m\u001b[0;34m\u001b[0m\u001b[0m\n",
            "\u001b[0;32mpandas/_libs/index.pyx\u001b[0m in \u001b[0;36mpandas._libs.index.IndexEngine.get_loc\u001b[0;34m()\u001b[0m\n",
            "\u001b[0;32mpandas/_libs/index.pyx\u001b[0m in \u001b[0;36mpandas._libs.index.IndexEngine.get_loc\u001b[0;34m()\u001b[0m\n",
            "\u001b[0;32mpandas/_libs/hashtable_class_helper.pxi\u001b[0m in \u001b[0;36mpandas._libs.hashtable.PyObjectHashTable.get_item\u001b[0;34m()\u001b[0m\n",
            "\u001b[0;32mpandas/_libs/hashtable_class_helper.pxi\u001b[0m in \u001b[0;36mpandas._libs.hashtable.PyObjectHashTable.get_item\u001b[0;34m()\u001b[0m\n",
            "\u001b[0;31mKeyError\u001b[0m: 'array'"
          ]
        }
      ]
    },
    {
      "cell_type": "code",
      "metadata": {
        "id": "jbL2Dn7fg854",
        "colab_type": "code",
        "colab": {}
      },
      "source": [
        "PIC = outsider_img # transform pic\n",
        "\n",
        "plt.subplot(121)\n",
        "plt.imshow(cv2.imread('/content/ejemplo acostado.jpg', cv2.IMREAD_GRAYSCALE)) # original pic\n",
        "plt.subplot(122)\n",
        "plt.imshow(Image.fromarray(PIC.squeeze()*255)) # transformed pic\n",
        "\n",
        "PIC = np.expand_dims(PIC,axis=0).reshape(np.expand_dims(PIC,axis=0).shape[0], 224, 224, 1)\n",
        "print(PIC.shape)\n",
        "pred = model.predict(PIC)[0]\n",
        "print(\"Probs -> ardha matsyendrasana:{0:.5f} bakasana:{1:.5f} bitilasana:{2:.5f} chaturanga dandasana:{3:.5f} garudasana:{4:.5f} vriksasana:{5:.5f}\".format(pred[0],pred[1],pred[2],pred[3],pred[4],pred[5]))"
      ],
      "execution_count": 0,
      "outputs": []
    },
    {
      "cell_type": "code",
      "metadata": {
        "id": "PB9bAKqdac1e",
        "colab_type": "code",
        "colab": {}
      },
      "source": [
        "model.save('my_model_multiclass10.h5') #save model "
      ],
      "execution_count": 0,
      "outputs": []
    },
    {
      "cell_type": "code",
      "metadata": {
        "id": "f2DX66B2Ek7R",
        "colab_type": "code",
        "colab": {}
      },
      "source": [
        "model_json = model.to_json()\n",
        "with open(\"model.json\", \"w\") as json_file:\n",
        "    json_file.write(model_json)\n",
        "model.save_weights(\"my_model_multiclass10.h5\")"
      ],
      "execution_count": 0,
      "outputs": []
    },
    {
      "cell_type": "code",
      "metadata": {
        "id": "yNl7Zf3x93-D",
        "colab_type": "code",
        "colab": {}
      },
      "source": [
        "%matplotlib inline\n",
        "import matplotlib.pyplot as plt\n",
        "columns = 5\n",
        "for i in range(columns):\n",
        "    plt.figure()\n",
        "    im = X[i]\n",
        "    plt.imshow(im,cmap=\"gray\")"
      ],
      "execution_count": 0,
      "outputs": []
    },
    {
      "cell_type": "code",
      "metadata": {
        "id": "nVSRAqAGtkvk",
        "colab_type": "code",
        "colab": {}
      },
      "source": [
        ""
      ],
      "execution_count": 0,
      "outputs": []
    }
  ]
}